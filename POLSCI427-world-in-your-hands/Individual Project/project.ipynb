{
 "cells": [
  {
   "cell_type": "code",
   "execution_count": 1,
   "id": "50d7b3e7-fac7-48ca-a470-904ea7f27390",
   "metadata": {},
   "outputs": [],
   "source": [
    "import numpy as np\n",
    "import pandas as pd\n",
    "import matplotlib.pyplot as plt\n",
    "import networkx as nx\n",
    "from pyvis.network import Network"
   ]
  },
  {
   "cell_type": "code",
   "execution_count": 2,
   "id": "88ac0565-d553-4710-a45d-e568472610ad",
   "metadata": {},
   "outputs": [],
   "source": [
    "N_NODES = 20\n",
    "N_HUBS = 3\n",
    "MIN_CONNECTS = 2\n",
    "COLOR_1 = \"#DE0100\"\n",
    "COLOR_2 = \"#1405BD\"\n",
    "P_COLOR_1 = 0.3\n",
    "P_FRIENDS_ACROSS_COLORS = 0.5\n",
    "STARTING_EDGE_WEIGHT_INDIV = 0.5\n",
    "STARTING_EDGE_WEIGHT_HUB = 1\n",
    "STARTING_FRIENDS = 2\n",
    "STARTING_HUBS = 2"
   ]
  },
  {
   "cell_type": "code",
   "execution_count": 3,
   "id": "44865b81-0397-4b7c-8d7c-7d1843c519ac",
   "metadata": {},
   "outputs": [],
   "source": [
    "G = nx.barabasi_albert_graph(N_NODES, MIN_CONNECTS)\n",
    "\n",
    "# get id's of hub nodes\n",
    "edge_counts = []\n",
    "for i in range(N_NODES):\n",
    "    num_edges = G.degree(i)\n",
    "    edge_counts.append(num_edges)\n",
    "    \n",
    "edge_counts = sorted(edge_counts)\n",
    "hub_edge_counts = edge_counts[-N_HUBS:]\n",
    "\n",
    "num_hubs = 0\n",
    "hub_color_count = {COLOR_1 : 0, COLOR_2 : 0}\n",
    "for i in range(N_NODES):\n",
    "    current_node = G.nodes[i]\n",
    "\n",
    "    # create hubs of each color in equal number\n",
    "    if G.degree(i) in hub_edge_counts and num_hubs < N_HUBS:\n",
    "        num_hubs += 1\n",
    "        current_node[\"size\"] = 20\n",
    "        current_node[\"is_hub\"] = True\n",
    "        current_node[\"hover_data\"] = \"Media Hub\"\n",
    "        if hub_color_count[COLOR_1] < hub_color_count[COLOR_2]:\n",
    "            color = COLOR_1\n",
    "            hub_color_count[COLOR_1] += 1\n",
    "        else:\n",
    "            color = COLOR_2\n",
    "            hub_color_count[COLOR_2] += 1\n",
    "            \n",
    "    # create individuals of a color from chosen proportion\n",
    "    else:\n",
    "        color = np.random.choice([COLOR_1, COLOR_2], p = [P_COLOR_1, 1 - P_COLOR_1])\n",
    "    current_node[\"color\"] = color\n",
    "\n",
    "#net = Network(notebook = True)\n",
    "#net.from_nx(G)\n",
    "#net.show(\"g.html\")"
   ]
  },
  {
   "cell_type": "markdown",
   "id": "cebd6652-62a1-4f78-9ea6-ac7ab0fda8c1",
   "metadata": {},
   "source": [
    "## Generate graph manually"
   ]
  },
  {
   "cell_type": "markdown",
   "id": "2ac62af0-2ef3-4be3-aadd-cc370a113c6c",
   "metadata": {},
   "source": [
    "### Generate nodes"
   ]
  },
  {
   "cell_type": "code",
   "execution_count": 4,
   "id": "53b9fb0b-1683-42e7-87d6-57cb42519c7c",
   "metadata": {},
   "outputs": [],
   "source": [
    "G = nx.Graph()\n",
    "\n",
    "current_n_hubs = 0\n",
    "hub_edges = dict()\n",
    "nodes = []\n",
    "\n",
    "prev_hub_color = COLOR_1 if P_COLOR_1 < 0.5 else COLOR_2\n",
    "color1_indivs = []\n",
    "color2_indivs = []\n",
    "color1_hubs = []\n",
    "color2_hubs = []\n",
    "\n",
    "for i in range(N_NODES):\n",
    "    new_node = (i, dict())\n",
    "    new_node_atts = new_node[1]\n",
    "\n",
    "    # if new node is a hub (first N nodes are hubs)\n",
    "    if i < N_HUBS:\n",
    "        new_node_atts[\"size\"] = 20\n",
    "        new_node_atts[\"color\"] = COLOR_1 if prev_hub_color == COLOR_2 else COLOR_2\n",
    "        prev_hub_color = COLOR_2 if prev_hub_color == COLOR_1 else COLOR_1\n",
    "        if new_node_atts[\"color\"] == COLOR_1:\n",
    "            color1_hubs.append(i)\n",
    "        else: \n",
    "            color2_hubs.append(i)\n",
    "        current_n_hubs += 1\n",
    "\n",
    "    # if not a hub, pick color according to given proportion\n",
    "    else:\n",
    "        color = np.random.choice([COLOR_1, COLOR_2], p = [P_COLOR_1, 1 - P_COLOR_1])\n",
    "        new_node_atts[\"color\"] = color\n",
    "        if color == COLOR_1:\n",
    "            color1_indivs.append(i)\n",
    "        else:\n",
    "            color2_indivs.append(i)\n",
    "    nodes.append(new_node)     \n",
    "    \n",
    "# instantiate nodes in graph\n",
    "G.add_nodes_from(nodes)"
   ]
  },
  {
   "cell_type": "code",
   "execution_count": 5,
   "id": "4cb7b836-f307-49c6-a0be-4b7e208c5759",
   "metadata": {},
   "outputs": [
    {
     "ename": "KeyboardInterrupt",
     "evalue": "",
     "output_type": "error",
     "traceback": [
      "\u001b[0;31m---------------------------------------------------------------------------\u001b[0m",
      "\u001b[0;31mKeyboardInterrupt\u001b[0m                         Traceback (most recent call last)",
      "Cell \u001b[0;32mIn[5], line 36\u001b[0m\n\u001b[1;32m     32\u001b[0m connect_to \u001b[38;5;241m=\u001b[39m np\u001b[38;5;241m.\u001b[39mrandom\u001b[38;5;241m.\u001b[39mrandint(N_HUBS \u001b[38;5;241m-\u001b[39m \u001b[38;5;241m1\u001b[39m, N_NODES \u001b[38;5;241m-\u001b[39m \u001b[38;5;241m1\u001b[39m)\n\u001b[1;32m     33\u001b[0m \u001b[38;5;28;01mif\u001b[39;00m G\u001b[38;5;241m.\u001b[39mnodes()[connect_to][\u001b[38;5;124m\"\u001b[39m\u001b[38;5;124mcolor\u001b[39m\u001b[38;5;124m\"\u001b[39m] \u001b[38;5;241m==\u001b[39m current_node[\u001b[38;5;124m\"\u001b[39m\u001b[38;5;124mcolor\u001b[39m\u001b[38;5;124m\"\u001b[39m]:\n\u001b[1;32m     34\u001b[0m     \n\u001b[1;32m     35\u001b[0m     \u001b[38;5;66;03m# allow cross-color friends with probability P_FRIENDS_ACROSS_COLORS\u001b[39;00m\n\u001b[0;32m---> 36\u001b[0m     p_friends_across \u001b[38;5;241m=\u001b[39m \u001b[43mnp\u001b[49m\u001b[38;5;241;43m.\u001b[39;49m\u001b[43mrandom\u001b[49m\u001b[38;5;241;43m.\u001b[39;49m\u001b[43muniform\u001b[49m\u001b[43m(\u001b[49m\u001b[43m)\u001b[49m\n\u001b[1;32m     37\u001b[0m     \u001b[38;5;28;01mif\u001b[39;00m p_friends_across \u001b[38;5;241m<\u001b[39m\u001b[38;5;241m=\u001b[39m P_FRIENDS_ACROSS_COLORS:\n\u001b[1;32m     38\u001b[0m         G\u001b[38;5;241m.\u001b[39madd_edge(i, connect_to, weight \u001b[38;5;241m=\u001b[39m STARTING_EDGE_WEIGHT_INDIV)\n",
      "\u001b[0;31mKeyboardInterrupt\u001b[0m: "
     ]
    }
   ],
   "source": [
    "# create edges between nodes\n",
    "for i in range(N_NODES):\n",
    "    current_node = G.nodes()[i]\n",
    "    current_node_color = current_node[\"color\"]\n",
    "    \n",
    "    # connect to STARTING_FRIENDS individuals and STARTING_HUBS hubs\n",
    "    for j in range(STARTING_FRIENDS + STARTING_HUBS):\n",
    "        \n",
    "        # skip hubs\n",
    "        if i < N_HUBS:\n",
    "            continue\n",
    "\n",
    "        # connect to hubs before individuals\n",
    "        # individuals start by consuming equal amounts of each color media\n",
    "        # odd number starting hubs will have an extra of the node's color\n",
    "        if j < STARTING_HUBS:\n",
    "            if j % 2 == 0:\n",
    "                color_hub = color1_hubs if current_node_color == COLOR_1 else color2_hubs\n",
    "            else:\n",
    "                color_hub = color2_hubs if current_node_color == COLOR_2 else color1_hubs\n",
    "\n",
    "            # randomly select hub of desired color\n",
    "            hub_id = np.random.choice(color_hub, \n",
    "                                      p = [1 / len(color_hub)] * len(color_hub))\n",
    "            G.add_edge(i, hub_id, weight = STARTING_EDGE_WEIGHT_HUB)\n",
    "            continue\n",
    "                \n",
    "    \n",
    "        # make an edge between nodes\n",
    "        connect_to = -1\n",
    "        while connect_to != i:\n",
    "            connect_to = np.random.randint(N_HUBS - 1, N_NODES - 1)\n",
    "            if G.nodes()[connect_to][\"color\"] == current_node[\"color\"]:\n",
    "                \n",
    "                # allow cross-color friends with probability P_FRIENDS_ACROSS_COLORS\n",
    "                p_friends_across = np.random.uniform()\n",
    "                if p_friends_across <= P_FRIENDS_ACROSS_COLORS:\n",
    "                    G.add_edge(i, connect_to, weight = STARTING_EDGE_WEIGHT_INDIV)\n",
    "                    # change connect_to to break out of while loop\n",
    "                    connect_to = i + 1\n",
    "                    continue\n",
    "                    \n",
    "                connect_to = -1\n",
    "                continue\n",
    "                \n",
    "            else:\n",
    "                # add age with STARTING_EDGE_WEIGHT_INDIV\n",
    "                G.add_edge(i, connect_to, weight = STARTING_EDGE_WEIGHT_INDIV)"
   ]
  },
  {
   "cell_type": "markdown",
   "id": "bf3bdfcc-da7d-4f83-9a7f-276fe7d98570",
   "metadata": {},
   "source": [
    "### Display graph network"
   ]
  },
  {
   "cell_type": "code",
   "execution_count": 6,
   "id": "c7797a0a-c4b6-43ed-a47c-e7df38696f9b",
   "metadata": {},
   "outputs": [
    {
     "name": "stdout",
     "output_type": "stream",
     "text": [
      "Warning: When  cdn_resources is 'local' jupyter notebook has issues displaying graphics on chrome/safari. Use cdn_resources='in_line' or cdn_resources='remote' if you have issues viewing graphics in a notebook.\n",
      "g2.html\n"
     ]
    },
    {
     "data": {
      "text/html": [
       "\n",
       "        <iframe\n",
       "            width=\"100%\"\n",
       "            height=\"600px\"\n",
       "            src=\"g2.html\"\n",
       "            frameborder=\"0\"\n",
       "            allowfullscreen\n",
       "            \n",
       "        ></iframe>\n",
       "        "
      ],
      "text/plain": [
       "<IPython.lib.display.IFrame at 0x7fba0b77f280>"
      ]
     },
     "execution_count": 6,
     "metadata": {},
     "output_type": "execute_result"
    }
   ],
   "source": [
    "# display network graph\n",
    "net2 = Network(notebook = True)\n",
    "net2.from_nx(G)\n",
    "net2.show(\"g2.html\")"
   ]
  },
  {
   "cell_type": "code",
   "execution_count": null,
   "id": "ed98c101-0b1f-4049-9830-319240ec9286",
   "metadata": {},
   "outputs": [],
   "source": []
  }
 ],
 "metadata": {
  "kernelspec": {
   "display_name": "Python 3 (ipykernel)",
   "language": "python",
   "name": "python3"
  },
  "language_info": {
   "codemirror_mode": {
    "name": "ipython",
    "version": 3
   },
   "file_extension": ".py",
   "mimetype": "text/x-python",
   "name": "python",
   "nbconvert_exporter": "python",
   "pygments_lexer": "ipython3",
   "version": "3.9.12"
  }
 },
 "nbformat": 4,
 "nbformat_minor": 5
}
